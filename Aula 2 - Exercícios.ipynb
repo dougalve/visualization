{
 "cells": [
  {
   "cell_type": "markdown",
   "id": "27db421d",
   "metadata": {},
   "source": [
    "### Aula 2: Exercícios\n",
    "\n",
    "Para estes exercícios, iremos utilizar duas bases:\n",
    "\n",
    "1) base fictícia de funcionários criada por cientistas de dados da IBM.\n",
    "\n",
    "**Variáveis:**\n",
    "- **Age:** Idade\n",
    "- **Attrition:** Se saiu da empresa (Sim ou não)\n",
    "- **BusinessTravel:** Frequência de viagens a trabalho\n",
    "- **DailyRate:** Custo do funcionário por dia\n",
    "- **Department:** Departamento\n",
    "- **DistanceFromHome:** Distância do trabalho até a casa do funcionário\n",
    "- **Education:** Nível de educação:\n",
    "    - 1: 'Below College'\n",
    "    - 2: 'College'\n",
    "    - 3: 'Bachelor'\n",
    "    - 4: 'Master'\n",
    "    - 5: 'Doctor'\n",
    "- **EducationField:** Área da educação\n",
    "- **EmployeeNumber:** ID do funcionário\n",
    "- **EnvironmentSatisfaction:** Satisfação com o ambiente de trabalho:\n",
    "    - 1: 'Low'\n",
    "    - 2: 'Medium'\n",
    "    - 3: 'High'\n",
    "    - 4: 'Very High'\n",
    "- **Gender:** Gênero\n",
    "- **HourlyRate:** Valor/hora\n",
    "- **JobInvolvement:** Nível de envolvimento com o trabalho (psicologica e emocionalmente):\n",
    "    - 1: 'Low'\n",
    "    - 2: 'Medium'\n",
    "    - 3: 'High'\n",
    "    - 4: 'Very High'\n",
    "- **JobLevel:** Nível do funcionário\n",
    "- **JobRole:** Cargo\n",
    "- **JobSatisfaction:** Nível de satisfação com o trabalho:\n",
    "    - 1: 'Low'\n",
    "    - 2: 'Medium'\n",
    "    - 3: 'High'\n",
    "    - 4: 'Very High'\n",
    "- **MaritalStatus:** Estado Civil\n",
    "- **NumCompaniesWorked:** Número de empresas que já trabalhou\n",
    "- **PercentSalaryHike:** Aumento salarial (%)\n",
    "- **PerformanceRating:** Nível de performance:\n",
    "    - 1: 'Low'\n",
    "    - 2: 'Good'\n",
    "    - 3: 'Excellent'\n",
    "    - 4: 'Outstanding'\n",
    "- **RelationshipSatisfaction:** Satisfação de relacionamento:\n",
    "    - 1: 'Low'\n",
    "    - 2: 'Medium'\n",
    "    - 3: 'High'\n",
    "    - 4: 'Very High'\n",
    "- **TotalWorkingYears:** Número de anos trabalhados\n",
    "- **TrainingTimesLastYear:** Número de treinamentos no ano anterior\n",
    "- **WorkLifeBalance:** Equilíbrio da vida profissional\n",
    "    - 1: 'Bad'\n",
    "    - 2: 'Good'\n",
    "    - 3: 'Better'\n",
    "    - 4: 'Best'\n",
    "- **YearsAtCompany:** Anos na empresa\n",
    "- **YearsInCurrentRole:** Anos na posição atual\n",
    "- **YearsSinceLastPromotion:** Anos desde a última promoção\n",
    "- **YearsWithCurrManager:** Anos com o mesmo gestor\n",
    "\n",
    "2) Base de dados de casos e óbitos de covid no estado de SP.\n",
    "\n",
    "- **nome_munic:** Nome do município\n",
    "- **codigo_ibge:** Código do município no IBGE (7 dígitos)\n",
    "- **casos_novos:** Casos novos registrados na data\n",
    "- **obitos_novos:** Óbitos novos registrados na data\n",
    "- **nome_drs:** Nome do Dpto. Regional de Saúde\n",
    "- **cod_drs:** Código do Dpto. Regional de Saúde\n",
    "- **pop:** População Estimada (fonte: SEADE)\n",
    "- **pop60:** População acima de 60 anos (fonte: SEADE)\n",
    "- **ano_mes:** Ano e mês dos dados"
   ]
  },
  {
   "cell_type": "code",
   "execution_count": 1,
   "id": "cc8717bc",
   "metadata": {},
   "outputs": [],
   "source": [
    "import pandas as pd\n",
    "import numpy as np"
   ]
  },
  {
   "cell_type": "code",
   "execution_count": 2,
   "id": "cd39ba13",
   "metadata": {},
   "outputs": [],
   "source": [
    "df1 = pd.read_csv('./data/IBM_Employees.csv')"
   ]
  },
  {
   "cell_type": "code",
   "execution_count": 3,
   "id": "0a4730cc",
   "metadata": {},
   "outputs": [],
   "source": [
    "df2 = pd.read_csv('./data/dados_covid_sp_20.csv')"
   ]
  },
  {
   "cell_type": "code",
   "execution_count": 5,
   "id": "239f0749",
   "metadata": {
    "scrolled": true
   },
   "outputs": [
    {
     "data": {
      "text/html": [
       "<div>\n",
       "<style scoped>\n",
       "    .dataframe tbody tr th:only-of-type {\n",
       "        vertical-align: middle;\n",
       "    }\n",
       "\n",
       "    .dataframe tbody tr th {\n",
       "        vertical-align: top;\n",
       "    }\n",
       "\n",
       "    .dataframe thead th {\n",
       "        text-align: right;\n",
       "    }\n",
       "</style>\n",
       "<table border=\"1\" class=\"dataframe\">\n",
       "  <thead>\n",
       "    <tr style=\"text-align: right;\">\n",
       "      <th></th>\n",
       "      <th>nome_munic</th>\n",
       "      <th>codigo_ibge</th>\n",
       "      <th>nome_drs</th>\n",
       "      <th>cod_drs</th>\n",
       "      <th>pop</th>\n",
       "      <th>pop_60</th>\n",
       "      <th>ano_mes</th>\n",
       "      <th>casos_novos</th>\n",
       "      <th>obitos_novos</th>\n",
       "    </tr>\n",
       "  </thead>\n",
       "  <tbody>\n",
       "    <tr>\n",
       "      <th>0</th>\n",
       "      <td>Adamantina</td>\n",
       "      <td>3500105</td>\n",
       "      <td>Marília</td>\n",
       "      <td>5.0</td>\n",
       "      <td>33894.0</td>\n",
       "      <td>7398.0</td>\n",
       "      <td>2020-02</td>\n",
       "      <td>0</td>\n",
       "      <td>0</td>\n",
       "    </tr>\n",
       "    <tr>\n",
       "      <th>1</th>\n",
       "      <td>Adamantina</td>\n",
       "      <td>3500105</td>\n",
       "      <td>Marília</td>\n",
       "      <td>5.0</td>\n",
       "      <td>33894.0</td>\n",
       "      <td>7398.0</td>\n",
       "      <td>2020-03</td>\n",
       "      <td>0</td>\n",
       "      <td>0</td>\n",
       "    </tr>\n",
       "    <tr>\n",
       "      <th>2</th>\n",
       "      <td>Adamantina</td>\n",
       "      <td>3500105</td>\n",
       "      <td>Marília</td>\n",
       "      <td>5.0</td>\n",
       "      <td>33894.0</td>\n",
       "      <td>7398.0</td>\n",
       "      <td>2020-04</td>\n",
       "      <td>5</td>\n",
       "      <td>0</td>\n",
       "    </tr>\n",
       "    <tr>\n",
       "      <th>3</th>\n",
       "      <td>Adamantina</td>\n",
       "      <td>3500105</td>\n",
       "      <td>Marília</td>\n",
       "      <td>5.0</td>\n",
       "      <td>33894.0</td>\n",
       "      <td>7398.0</td>\n",
       "      <td>2020-05</td>\n",
       "      <td>34</td>\n",
       "      <td>2</td>\n",
       "    </tr>\n",
       "    <tr>\n",
       "      <th>4</th>\n",
       "      <td>Adamantina</td>\n",
       "      <td>3500105</td>\n",
       "      <td>Marília</td>\n",
       "      <td>5.0</td>\n",
       "      <td>33894.0</td>\n",
       "      <td>7398.0</td>\n",
       "      <td>2020-06</td>\n",
       "      <td>3</td>\n",
       "      <td>1</td>\n",
       "    </tr>\n",
       "  </tbody>\n",
       "</table>\n",
       "</div>"
      ],
      "text/plain": [
       "   nome_munic  codigo_ibge nome_drs  cod_drs      pop  pop_60  ano_mes  \\\n",
       "0  Adamantina      3500105  Marília      5.0  33894.0  7398.0  2020-02   \n",
       "1  Adamantina      3500105  Marília      5.0  33894.0  7398.0  2020-03   \n",
       "2  Adamantina      3500105  Marília      5.0  33894.0  7398.0  2020-04   \n",
       "3  Adamantina      3500105  Marília      5.0  33894.0  7398.0  2020-05   \n",
       "4  Adamantina      3500105  Marília      5.0  33894.0  7398.0  2020-06   \n",
       "\n",
       "   casos_novos  obitos_novos  \n",
       "0            0             0  \n",
       "1            0             0  \n",
       "2            5             0  \n",
       "3           34             2  \n",
       "4            3             1  "
      ]
     },
     "execution_count": 5,
     "metadata": {},
     "output_type": "execute_result"
    }
   ],
   "source": [
    "df2.head()"
   ]
  },
  {
   "cell_type": "code",
   "execution_count": 6,
   "id": "7fc9b1eb",
   "metadata": {},
   "outputs": [
    {
     "data": {
      "text/plain": [
       "array(['2020-02', '2020-03', '2020-04', '2020-05', '2020-06'],\n",
       "      dtype=object)"
      ]
     },
     "execution_count": 6,
     "metadata": {},
     "output_type": "execute_result"
    }
   ],
   "source": [
    "df2['ano_mes'].unique()"
   ]
  },
  {
   "cell_type": "code",
   "execution_count": 7,
   "id": "efecdeb2",
   "metadata": {},
   "outputs": [
    {
     "data": {
      "text/plain": [
       "array(['Marília', 'São José do Rio Preto', 'São João da Boa Vista',\n",
       "       'Bauru', 'Sorocaba', 'Presidente Prudente', 'Barretos',\n",
       "       'Ribeirão Preto', 'Araçatuba', 'Campinas', 'Araraquara',\n",
       "       'Piracicaba', 'Taubaté', 'Franca', 'Grande São Paulo', 'Registro',\n",
       "       'Baixada Santista'], dtype=object)"
      ]
     },
     "execution_count": 7,
     "metadata": {},
     "output_type": "execute_result"
    }
   ],
   "source": [
    "df2['nome_drs'].unique()"
   ]
  },
  {
   "cell_type": "markdown",
   "id": "272987e1",
   "metadata": {},
   "source": [
    "## Exercício 1:\n",
    "Utilizando a base de dados de covid:\n",
    "\n",
    "**a)** Faça um gráfico de barras mostrando o total de óbitos (considerando todos os meses) para todos os DRS, excluindo a Grande São Paulo. Coloque título no gráfico e nos eixos, defina um tamanho de imagem bom e intercale as barras com as cores 'red' e 'green'."
   ]
  },
  {
   "cell_type": "code",
   "execution_count": 8,
   "id": "bfe0fe37",
   "metadata": {},
   "outputs": [],
   "source": [
    "df2_reduzido = df2[df2['nome_drs'] != 'Grande São Paulo']"
   ]
  },
  {
   "cell_type": "code",
   "execution_count": 13,
   "id": "bef40924",
   "metadata": {},
   "outputs": [
    {
     "data": {
      "text/plain": [
       "<AxesSubplot:title={'center':'Total de óbitos por DRS'}, xlabel='DRS', ylabel='No. óbitos'>"
      ]
     },
     "execution_count": 13,
     "metadata": {},
     "output_type": "execute_result"
    },
    {
     "data": {
      "image/png": "[encoded data removed]",
      "text/plain": [
       "<Figure size 720x720 with 1 Axes>"
      ]
     },
     "metadata": {
      "needs_background": "light"
     },
     "output_type": "display_data"
    }
   ],
   "source": [
    "df2_reduzido.groupby(['nome_drs'])['obitos_novos'].sum().plot(kind='bar',\n",
    "                                                              xlabel='DRS',\n",
    "                                                              ylabel='No. óbitos', \n",
    "                                                              color=['red', 'green'],\n",
    "                                                              title='Total de óbitos por DRS',\n",
    "                                                              figsize=(10,10))"
   ]
  },
  {
   "cell_type": "markdown",
   "id": "5889d8f5",
   "metadata": {},
   "source": [
    "**b)**  Faça um gráfico de barras horizontal mostrando o total de óbitos no mês de abril para 3 DRS da sua escolha. Coloque título no gráfico e nos eixos, defina um tamanho de imagem bom."
   ]
  },
  {
   "cell_type": "code",
   "execution_count": 14,
   "id": "b450b152",
   "metadata": {},
   "outputs": [
    {
     "data": {
      "text/plain": [
       "array(['Marília', 'São José do Rio Preto', 'São João da Boa Vista',\n",
       "       'Bauru', 'Sorocaba', 'Presidente Prudente', 'Barretos',\n",
       "       'Ribeirão Preto', 'Araçatuba', 'Campinas', 'Araraquara',\n",
       "       'Piracicaba', 'Taubaté', 'Franca', 'Registro', 'Baixada Santista'],\n",
       "      dtype=object)"
      ]
     },
     "execution_count": 14,
     "metadata": {},
     "output_type": "execute_result"
    }
   ],
   "source": [
    "df2_reduzido['nome_drs'].unique()"
   ]
  },
  {
   "cell_type": "code",
   "execution_count": 16,
   "id": "d332be04",
   "metadata": {},
   "outputs": [],
   "source": [
    "df2_cities = df2[(df2['nome_drs'] == 'Marília') |\n",
    "                   (df2['nome_drs'] == 'Bauru') |\n",
    "                   (df2['nome_drs'] == 'Ribeirão Preto')]\n",
    "df2_mes = df2_cities[df2_cities['ano_mes'] == '2020-04']\n"
   ]
  },
  {
   "cell_type": "code",
   "execution_count": 18,
   "id": "b39982b2",
   "metadata": {},
   "outputs": [
    {
     "data": {
      "text/plain": [
       "<AxesSubplot:ylabel='DRS'>"
      ]
     },
     "execution_count": 18,
     "metadata": {},
     "output_type": "execute_result"
    },
    {
     "data": {
      "image/png": "[encoded data removed]",
      "text/plain": [
       "<Figure size 432x288 with 1 Axes>"
      ]
     },
     "metadata": {
      "needs_background": "light"
     },
     "output_type": "display_data"
    }
   ],
   "source": [
    "df2_mes.groupby([\"nome_drs\"])[\"obitos_novos\"].sum().plot(kind=\"barh\", xlabel='DRS', ylabel='No. óbitos')"
   ]
  },
  {
   "cell_type": "markdown",
   "id": "cdcbe7ac",
   "metadata": {},
   "source": [
    "## Exercício 2\n",
    "\n",
    "**a)** Utilizando a base de dados da IBM, crie um histograma para as idades dos funcionários, separando por gênero."
   ]
  },
  {
   "cell_type": "code",
   "execution_count": 10,
   "id": "71c2fb1a",
   "metadata": {},
   "outputs": [
    {
     "data": {
      "image/png": "[encoded data removed]",
      "text/plain": [
       "<Figure size 720x360 with 1 Axes>"
      ]
     },
     "metadata": {
      "needs_background": "light"
     },
     "output_type": "display_data"
    }
   ],
   "source": [
    "ax1 = df1[df1['Gender']=='Female'].plot(y='Age', kind='hist', bins=20, figsize=(10,5), label='female')\n",
    "ax2 = df1[df1['Gender']=='Male'].plot(y='Age', kind='hist', bins=20, figsize=(10,5), alpha=0.4, label='male', ax=ax1)"
   ]
  },
  {
   "cell_type": "markdown",
   "id": "8c9a5551",
   "metadata": {},
   "source": [
    "**b)** Faça agora um boxplot das idades, por gênero."
   ]
  },
  {
   "cell_type": "code",
   "execution_count": 17,
   "id": "41ece78b",
   "metadata": {},
   "outputs": [
    {
     "data": {
      "text/plain": [
       "<AxesSubplot:title={'center':'Age'}, xlabel='Gender'>"
      ]
     },
     "execution_count": 17,
     "metadata": {},
     "output_type": "execute_result"
    },
    {
     "data": {
      "image/png": "[encoded data removed]",
      "text/plain": [
       "<Figure size 1440x720 with 1 Axes>"
      ]
     },
     "metadata": {
      "needs_background": "light"
     },
     "output_type": "display_data"
    }
   ],
   "source": [
    "df1.boxplot(column='Age', by='Gender', grid=False,\n",
    "         color={'boxes':'red', 'medians' : 'blue'}, figsize=(20,10))"
   ]
  }
 ],
 "metadata": {
  "kernelspec": {
   "display_name": "Python 3 (ipykernel)",
   "language": "python",
   "name": "python3"
  },
  "language_info": {
   "codemirror_mode": {
    "name": "ipython",
    "version": 3
   },
   "file_extension": ".py",
   "mimetype": "text/x-python",
   "name": "python",
   "nbconvert_exporter": "python",
   "pygments_lexer": "ipython3",
   "version": "3.9.7"
  },
  "toc": {
   "base_numbering": 1,
   "nav_menu": {},
   "number_sections": true,
   "sideBar": true,
   "skip_h1_title": false,
   "title_cell": "Table of Contents",
   "title_sidebar": "Contents",
   "toc_cell": false,
   "toc_position": {},
   "toc_section_display": true,
   "toc_window_display": false
  }
 },
 "nbformat": 4,
 "nbformat_minor": 5
}
